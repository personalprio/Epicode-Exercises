{
 "cells": [
  {
   "cell_type": "code",
   "execution_count": 1,
   "metadata": {},
   "outputs": [
    {
     "name": "stdout",
     "output_type": "stream",
     "text": [
      "E\n",
      "p\n",
      "i\n",
      "c\n",
      "o\n",
      "d\n",
      "e\n"
     ]
    }
   ],
   "source": [
    "#Esercizio 1\n",
    "nome_scuola = \"Epicode\"\n",
    "for lettera in nome_scuola:\n",
    "    print(lettera)"
   ]
  },
  {
   "cell_type": "code",
   "execution_count": 2,
   "metadata": {},
   "outputs": [
    {
     "name": "stdout",
     "output_type": "stream",
     "text": [
      "1\n",
      "2\n",
      "4\n",
      "8\n",
      "16\n",
      "32\n",
      "64\n",
      "128\n",
      "256\n",
      "512\n"
     ]
    }
   ],
   "source": [
    "#Esercizio 2\n",
    "for i in range(10):\n",
    "    print(2**i)"
   ]
  },
  {
   "cell_type": "code",
   "execution_count": 5,
   "metadata": {},
   "outputs": [
    {
     "name": "stdout",
     "output_type": "stream",
     "text": [
      "La lista del while è:  [1, 2, 4, 8, 16, 32, 64, 128, 256, 512]\n",
      "La lista del for è:  [1, 2, 4, 8, 16, 32, 64, 128, 256, 512]\n"
     ]
    }
   ],
   "source": [
    "'''\n",
    "Esercizio 3\n",
    "Nella consegna viene indicato di salvare le prime N potenze di K dove K viene inserito dall'utente, non viene però specificato N\n",
    "Indichiamo N come 10\n",
    "NB: scelgo di partire da 0 come prima potenza per scelta\n",
    "'''\n",
    "k = int(input(\"Inserisci la base della potenza: \"))\n",
    "n = 10\n",
    "\n",
    "#versione while\n",
    "lista_while = []\n",
    "i = 0\n",
    "tot_w = 0\n",
    "while i < n:\n",
    "    tot_w = k ** i\n",
    "    lista_while.append(tot_w)\n",
    "    i += 1\n",
    "\n",
    "#versione for\n",
    "lista_for = []\n",
    "tot_f = 0\n",
    "for i in range(n):\n",
    "    tot_f = k ** i\n",
    "    lista_for.append(tot_f)\n",
    "    \n",
    "print(\"La lista del while è: \", lista_while)\n",
    "print(\"La lista del for è: \", lista_for)\n",
    "    \n",
    "    \n",
    "\n"
   ]
  },
  {
   "cell_type": "code",
   "execution_count": 1,
   "metadata": {},
   "outputs": [
    {
     "name": "stdout",
     "output_type": "stream",
     "text": [
      "70.0\n"
     ]
    }
   ],
   "source": [
    "#Esercizio 4\n",
    "guadagni = [100, 90, 70, 40, 50, 80, 90, 120, 80, 20, 50, 50]\n",
    "sum = 0\n",
    "for g in guadagni:\n",
    "    sum = sum + g\n",
    "avg = sum / len(guadagni)\n",
    "print(avg)"
   ]
  },
  {
   "cell_type": "code",
   "execution_count": 2,
   "metadata": {},
   "outputs": [
    {
     "name": "stdout",
     "output_type": "stream",
     "text": [
      "Ci sono 20 'e' o 'E' in totale\n"
     ]
    }
   ],
   "source": [
    "#Esercizio 5\n",
    "parole = [\n",
    "    \"Albergo\",\n",
    "    \"Sedia\",\n",
    "    \"Borgo\",\n",
    "    \"Petalo\",\n",
    "    \"Eremo\",\n",
    "    \"Belvedere\",\n",
    "    \"Semestre\",\n",
    "    \"Esteta\",\n",
    "    \"Sosta\",\n",
    "    \"Orpello\",\n",
    "    \"Abete\",\n",
    "    \"Orologio\",\n",
    "    \"Cesta\",\n",
    "    \"Ermellino\"\n",
    "    ]\n",
    "counter = 0\n",
    "for parola in parole:\n",
    "    for lettera in parola:\n",
    "        if lettera == \"E\" or lettera == \"e\":\n",
    "            counter +=1\n",
    "print(f\"Ci sono {counter} 'e' o 'E' in totale\")"
   ]
  },
  {
   "cell_type": "code",
   "execution_count": 4,
   "metadata": {},
   "outputs": [
    {
     "name": "stdout",
     "output_type": "stream",
     "text": [
      "Codici Cognome: ABC, Codici Nome: DEF\n",
      "Codici Cognome: STU, Codici Nome: VWX\n",
      "Codici Cognome: DEF, Codici Nome: GHI\n"
     ]
    }
   ],
   "source": [
    "#Esercizio 6\n",
    "lista_cf = [\n",
    "    \"ABCDEF95G01A123B\",\n",
    "    \"GHIJKL91M02A321C\",\n",
    "    \"MNOPQR89S03A456D\",\n",
    "    \"STUVWX95Z04A654E\",\n",
    "    \"XYZABC01D05A789F\",\n",
    "    \"DEFGHI95J06A987G\"\n",
    "    ]\n",
    "new_list = []\n",
    "for cf in lista_cf:\n",
    "    if \"95\" in cf:\n",
    "        new_list.append(cf)\n",
    "for new_cf in new_list:\n",
    "    print(f\"Codici Cognome: {new_cf[0:3]}, Codici Nome: {new_cf[3:6]}\")\n"
   ]
  },
  {
   "cell_type": "code",
   "execution_count": 12,
   "metadata": {},
   "outputs": [
    {
     "name": "stdout",
     "output_type": "stream",
     "text": [
      "Gli studenti sono: \n",
      "\tAlex\n",
      "\tBob\n",
      "\tCindy\n",
      "\tDan\n",
      "\tEmma\n",
      "\tFaith\n",
      "\tGrace\n",
      "\tHenry\n",
      "\n",
      "Alex partecipa a un corso di prima edizione\n",
      "Faith partecipa a un corso di prima edizione\n"
     ]
    }
   ],
   "source": [
    "#Esercizio 7\n",
    "studenti = [\n",
    "    \"Alex\",\n",
    "    \"Bob\",\n",
    "    \"Cindy\",\n",
    "    \"Dan\",\n",
    "    \"Emma\",\n",
    "    \"Faith\",\n",
    "    \"Grace\",\n",
    "    \"Henry\"\n",
    "    ]\n",
    "corsi = [\n",
    "    \"Cybersecurity\",\n",
    "    \"Data Analyst\",\n",
    "    \"Backend\",\n",
    "    \"Frontend\",\n",
    "    \"Data Analyst\",\n",
    "    \"Backend\",\n",
    "    \"Frontend\",\n",
    "    \"Cybersecurity\"\n",
    "    ]\n",
    "edizioni = [1, 2, 3, 2, 2, 1, 3, 3]\n",
    "\n",
    "print(\"Gli studenti sono: \")\n",
    "for studente in studenti:\n",
    "    print(f\"\\t{studente}\")\n",
    "    \n",
    "print(\"\")\n",
    "\n",
    "edizione = []\n",
    "for i in range(len(edizioni)):\n",
    "    if  edizioni[i] == 1:\n",
    "        print(f\"{studenti[i]} partecipa a un corso di prima edizione\")"
   ]
  },
  {
   "cell_type": "code",
   "execution_count": 13,
   "metadata": {},
   "outputs": [
    {
     "name": "stdout",
     "output_type": "stream",
     "text": [
      "['100 $', '200 $', '500 $', '10 $', '50 $', '70 $']\n"
     ]
    }
   ],
   "source": [
    "#Esercizio 8\n",
    "prezzi = [\"100 €\", \"200 €\", \"500 €\", \"10 €\", \"50 €\", \"70 €\"]\n",
    "new_prezzi = []\n",
    "for prezzo in prezzi:\n",
    "    new_prezzo = prezzo.replace(\"€\", \"$\")\n",
    "    new_prezzi.append(new_prezzo)\n",
    "    \n",
    "print(new_prezzi)"
   ]
  },
  {
   "cell_type": "code",
   "execution_count": 15,
   "metadata": {},
   "outputs": [
    {
     "name": "stdout",
     "output_type": "stream",
     "text": [
      "Squadra pari:\n",
      "Alex Cindy Emma Grace Isabelle \n",
      "\n",
      "Squadra dispari:\n",
      "Bob Dan Faith Henry John "
     ]
    }
   ],
   "source": [
    "#Esercizio 9\n",
    "#Considero volutamente lo 0 pari, o almeno così mi avevano insegnato a scuola \n",
    "studenti = [\n",
    "    \"Alex\",\n",
    "    \"Bob\",\n",
    "    \"Cindy\",\n",
    "    \"Dan\",\n",
    "    \"Emma\",\n",
    "    \"Faith\",\n",
    "    \"Grace\",\n",
    "    \"Henry\",\n",
    "    \"Isabelle\",\n",
    "    \"John\"\n",
    "    ]\n",
    "studenti_pari = []\n",
    "studenti_dispari = []\n",
    "\n",
    "for studente in range(len(studenti)):\n",
    "    if studente % 2 == 0:\n",
    "        studenti_pari.append(studenti[studente])\n",
    "    else:\n",
    "        studenti_dispari.append(studenti[studente])\n",
    "\n",
    "print(f\"Squadra pari:\")\n",
    "for studente in studenti_pari:\n",
    "    print(studente, end=\" \")\n",
    "print(\"\\n\\nSquadra dispari:\")\n",
    "for studente in studenti_dispari:\n",
    "    print(studente, end=\" \")"
   ]
  },
  {
   "cell_type": "code",
   "execution_count": 4,
   "metadata": {},
   "outputs": [
    {
     "name": "stdout",
     "output_type": "stream",
     "text": [
      "Mese 1: 100\n",
      "Mese 2: 90 (media prec: 100 - il guadagno è minore)\n",
      "Mese 3: 70 (media prec: 95 - il guadagno è minore)\n",
      "Mese 4: 40 (media prec: 87 - il guadagno è minore)\n",
      "Mese 5: 50 (media prec: 75 - il guadagno è minore)\n",
      "Mese 6: 80 (media prec: 70 - il guadagno è maggiore)\n",
      "Mese 7: 90 (media prec: 72 - il guadagno è maggiore)\n",
      "Mese 8: 120 (media prec: 74 - il guadagno è maggiore)\n",
      "Mese 9: 80 (media prec: 80 - il guadagno è in pareggio)\n",
      "Mese 10: 20 (media prec: 80 - il guadagno è minore)\n",
      "Mese 11: 50 (media prec: 74 - il guadagno è minore)\n",
      "Mese 12: 50 (media prec: 72 - il guadagno è minore)\n"
     ]
    }
   ],
   "source": [
    "#Esercizio 10\n",
    "guadagni = [100, 90, 70, 40, 50, 80, 90, 120, 80, 20, 50, 50]\n",
    "\n",
    "media = 0\n",
    "guadagni_aggiornata = []\n",
    "for i in range(len(guadagni)):\n",
    "    if i == 0:\n",
    "        guadagni_aggiornata.append(guadagni[i])\n",
    "        print(f\"Mese {i + 1}: {guadagni[i]}\")\n",
    "    else:\n",
    "        media = round(sum(guadagni_aggiornata) / len(guadagni_aggiornata))\n",
    "        guadagni_aggiornata.append(guadagni[i])\n",
    "        if media > guadagni[i]:\n",
    "            print(f\"Mese {i + 1}: {guadagni[i]} (media prec: {media} - il guadagno è minore)\")\n",
    "        elif media < guadagni[i]:\n",
    "            print(f\"Mese {i + 1}: {guadagni[i]} (media prec: {media} - il guadagno è maggiore)\")\n",
    "        else:\n",
    "            print(f\"Mese {i + 1}: {guadagni[i]} (media prec: {media} - il guadagno è in pareggio)\")\n",
    "\n",
    "    \n",
    "    \n",
    "\n",
    "        "
   ]
  }
 ],
 "metadata": {
  "kernelspec": {
   "display_name": ".venv",
   "language": "python",
   "name": "python3"
  },
  "language_info": {
   "codemirror_mode": {
    "name": "ipython",
    "version": 3
   },
   "file_extension": ".py",
   "mimetype": "text/x-python",
   "name": "python",
   "nbconvert_exporter": "python",
   "pygments_lexer": "ipython3",
   "version": "3.12.0"
  }
 },
 "nbformat": 4,
 "nbformat_minor": 2
}
