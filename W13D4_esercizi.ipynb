{
 "cells": [
  {
   "cell_type": "code",
   "execution_count": 21,
   "metadata": {},
   "outputs": [
    {
     "name": "stdout",
     "output_type": "stream",
     "text": [
      "[0, 1, 2, 3, 4, 5]\n"
     ]
    }
   ],
   "source": [
    "#Esercizio 1\n",
    "n_list = [0, 1, 2, 3, 4, 5]\n",
    "print(n_list)"
   ]
  },
  {
   "cell_type": "code",
   "execution_count": 22,
   "metadata": {},
   "outputs": [
    {
     "name": "stdout",
     "output_type": "stream",
     "text": [
      "['The Bourne Identity', 'The Matrix', 'The Imitation Game']\n"
     ]
    }
   ],
   "source": [
    "#Esercizio 2\n",
    "film_list = [\"The Bourne Identity\", \"The Matrix\", \"The Imitation Game\"]\n",
    "print(film_list)"
   ]
  },
  {
   "cell_type": "code",
   "execution_count": 23,
   "metadata": {},
   "outputs": [
    {
     "name": "stdout",
     "output_type": "stream",
     "text": [
      "E\n"
     ]
    }
   ],
   "source": [
    "#Esercizio 3\n",
    "nome_scuola = \"Epicode\"\n",
    "print(nome_scuola[0])"
   ]
  },
  {
   "cell_type": "code",
   "execution_count": 26,
   "metadata": {},
   "outputs": [
    {
     "name": "stdout",
     "output_type": "stream",
     "text": [
      "Epi\n"
     ]
    }
   ],
   "source": [
    "#Esercizio 4\n",
    "print(nome_scuola[:3])"
   ]
  },
  {
   "cell_type": "code",
   "execution_count": 27,
   "metadata": {},
   "outputs": [
    {
     "name": "stdout",
     "output_type": "stream",
     "text": [
      "36\n"
     ]
    }
   ],
   "source": [
    "#Esercizio 5\n",
    "#metodo 1\n",
    "x = 10\n",
    "x = (x + 2) * 3\n",
    "print(x)"
   ]
  },
  {
   "cell_type": "code",
   "execution_count": 28,
   "metadata": {},
   "outputs": [
    {
     "data": {
      "text/plain": [
       "36"
      ]
     },
     "execution_count": 28,
     "metadata": {},
     "output_type": "execute_result"
    }
   ],
   "source": [
    "#metodo2\n",
    "x = 10\n",
    "(x + 2) * 3"
   ]
  },
  {
   "cell_type": "code",
   "execution_count": 30,
   "metadata": {},
   "outputs": [
    {
     "name": "stdout",
     "output_type": "stream",
     "text": [
      "La  ... ita\n"
     ]
    }
   ],
   "source": [
    "#Esercizio 6\n",
    "str = input(\"Inserisci una stringa: \")\n",
    "print(str[:3], \"...\", str[-3:])"
   ]
  },
  {
   "cell_type": "code",
   "execution_count": 32,
   "metadata": {},
   "outputs": [
    {
     "name": "stdout",
     "output_type": "stream",
     "text": [
      "Windows True\n",
      "Excel True\n",
      "Powerpoint False\n",
      "Word False\n"
     ]
    }
   ],
   "source": [
    "#Esercizio 7\n",
    "list = [\"Windows\", \"Excel\", \"Powerpoint\", \"Word\"]\n",
    "for name in list:\n",
    "    if 5 <= len(name) <= 8:\n",
    "        print(name, \"True\")\n",
    "    else:\n",
    "        print(name, \"False\")"
   ]
  },
  {
   "cell_type": "code",
   "execution_count": 35,
   "metadata": {},
   "outputs": [
    {
     "name": "stdout",
     "output_type": "stream",
     "text": [
      "['-S1', '-G9', '-Z8']\n"
     ]
    }
   ],
   "source": [
    "#Esercizio 8\n",
    "codici = [\"knt-S1\", \"cba-G9\", \"qtr-Z8\"]\n",
    "new_codici = []\n",
    "for codice in codici:\n",
    "    new_codici.append(codice[-3:])\n",
    "print(new_codici)"
   ]
  },
  {
   "cell_type": "code",
   "execution_count": 36,
   "metadata": {},
   "outputs": [],
   "source": [
    "#Esercizio 9\n",
    "#parte 1/3\n",
    "growth = {\n",
    "    \"Tesla\",\n",
    "    \"Shopify\",\n",
    "    \"Block\",\n",
    "    \"Etsy\",\n",
    "    \"MercadoLibre\",\n",
    "    \"Netflix\",\n",
    "    \"Amazon\",\n",
    "    \"Meta Platforms\",\n",
    "    \"Salesforce\",\n",
    "    \"Alphabet\"\n",
    "    }\n",
    "value = {\n",
    "    \"Pfizer\",\n",
    "    \"Johnson & Johnson\",\n",
    "    \"JPMorgan Chase & Co.\",\n",
    "    \"Wells Fargo & Co.\",\n",
    "    \"Verizon Communications\",\n",
    "    \"BP PLC\",\n",
    "    \"LyondellBasell Industries\",\n",
    "    \"MetLife\",\n",
    "    \"Interactive Brokers Group\",\n",
    "    \"Intel\"\n",
    "    }\n",
    "tech = {\n",
    "    \"Apple\",\n",
    "    \"Microsoft\",\n",
    "    \"Alphabet\",\n",
    "    \"Amazon\",\n",
    "    \"NVIDIA\",\n",
    "    \"Meta Platforms\",\n",
    "    \"Tesla\",\n",
    "    \"Alibaba\",\n",
    "    \"Salesforce\",\n",
    "    \"Advanced Micro Devices\",\n",
    "    \"Intel\",\n",
    "    \"PayPal\",\n",
    "    \"Activision Blizzard\",\n",
    "    \"Electronic Arts\",\n",
    "    \"The Trade Desk\",\n",
    "    \"Zillow Group\",\n",
    "    \"Match Group\",\n",
    "    \"Yelp\"\n",
    "    }\n",
    "healthcare = {\n",
    "    \"UnitedHealth Group\",\n",
    "    \"Johnson & Johnson\",\n",
    "    \"Eli Lilly & Co.\",\n",
    "    \"Novo Nordisk\",\n",
    "    \"Merck & Co.\",\n",
    "    \"Roche Holding\",\n",
    "    \"Pfizer\",\n",
    "    \"Thermo Fisher Scientific\",\n",
    "    \"Abbott Laboratories\"\n",
    "    }\n"
   ]
  },
  {
   "cell_type": "code",
   "execution_count": 38,
   "metadata": {},
   "outputs": [
    {
     "name": "stdout",
     "output_type": "stream",
     "text": [
      "Aziende Growth: {'Amazon', 'Alphabet', 'Etsy', 'Shopify', 'Netflix', 'Meta Platforms', 'MercadoLibre', 'Tesla', 'Block', 'Salesforce'}\n",
      "Aziende Value: {'LyondellBasell Industries', 'Pfizer', 'Verizon Communications', 'BP PLC', 'Johnson & Johnson', 'Interactive Brokers Group', 'Intel', 'JPMorgan Chase & Co.', 'MetLife', 'Wells Fargo & Co.'}\n"
     ]
    }
   ],
   "source": [
    "#parte 2\n",
    "#se vuole diversificare l'investimento, investendo in aziende growth e value, quali sono le aziende?\n",
    "print(f\"Aziende Growth: {growth}\\nAziende Value: {value}\")"
   ]
  },
  {
   "cell_type": "code",
   "execution_count": 41,
   "metadata": {},
   "outputs": [
    {
     "name": "stdout",
     "output_type": "stream",
     "text": [
      "Amazon\n",
      "Alphabet\n",
      "Meta Platforms\n",
      "Tesla\n",
      "Salesforce\n"
     ]
    }
   ],
   "source": [
    "#quali sono le aziende tecnologiche growth?\n",
    "for company in growth:\n",
    "    if company in tech:\n",
    "        print(company)"
   ]
  },
  {
   "cell_type": "code",
   "execution_count": 42,
   "metadata": {},
   "outputs": [
    {
     "name": "stdout",
     "output_type": "stream",
     "text": [
      "Intel\n"
     ]
    }
   ],
   "source": [
    "#se vuole investire sia in aziende tecnologiche che value, quali deve considerare?\n",
    "for company2 in value:\n",
    "    if company2 in tech:\n",
    "        print(company2)"
   ]
  },
  {
   "cell_type": "code",
   "execution_count": 43,
   "metadata": {},
   "outputs": [
    {
     "name": "stdout",
     "output_type": "stream",
     "text": [
      "LyondellBasell Industries\n",
      "Verizon Communications\n",
      "BP PLC\n",
      "Interactive Brokers Group\n",
      "Intel\n",
      "JPMorgan Chase & Co.\n",
      "MetLife\n",
      "Wells Fargo & Co.\n"
     ]
    }
   ],
   "source": [
    "#quali sono i titoli healthcare che non sono value?\n",
    "for company3 in value:\n",
    "    if company3 not in healthcare:\n",
    "        print(company3)"
   ]
  },
  {
   "cell_type": "code",
   "execution_count": 44,
   "metadata": {},
   "outputs": [],
   "source": [
    "#ci sono aziende sia tech che healthcare?\n",
    "for company4 in tech:\n",
    "    if company4 in healthcare:\n",
    "        print(company4)"
   ]
  },
  {
   "cell_type": "code",
   "execution_count": 47,
   "metadata": {},
   "outputs": [
    {
     "name": "stdout",
     "output_type": "stream",
     "text": [
      "Amazon\n",
      "Intel\n",
      "Alphabet\n",
      "Meta Platforms\n",
      "Tesla\n",
      "Salesforce\n"
     ]
    }
   ],
   "source": [
    "#in quali deve investire se vuole azioni tech ma solo se siano growth o value?\n",
    "for company5 in tech:\n",
    "    if company5 in growth or company5 in value:\n",
    "        print(company5)"
   ]
  },
  {
   "cell_type": "code",
   "execution_count": 48,
   "metadata": {},
   "outputs": [
    {
     "name": "stdout",
     "output_type": "stream",
     "text": [
      "Amazon\n",
      "Intel\n",
      "Alphabet\n",
      "Meta Platforms\n",
      "Tesla\n",
      "Salesforce\n"
     ]
    }
   ],
   "source": [
    "#controllo perchè non ero sicuro del precdente \n",
    "for company6 in tech:\n",
    "    if company6 in growth:\n",
    "        print(company6)\n",
    "    elif company6 in value:\n",
    "        print(company6)\n",
    "    "
   ]
  }
 ],
 "metadata": {
  "kernelspec": {
   "display_name": "Python 3",
   "language": "python",
   "name": "python3"
  },
  "language_info": {
   "codemirror_mode": {
    "name": "ipython",
    "version": 3
   },
   "file_extension": ".py",
   "mimetype": "text/x-python",
   "name": "python",
   "nbconvert_exporter": "python",
   "pygments_lexer": "ipython3",
   "version": "3.12.0"
  }
 },
 "nbformat": 4,
 "nbformat_minor": 2
}
