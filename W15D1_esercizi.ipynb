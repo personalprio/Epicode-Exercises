{
 "cells": [
  {
   "cell_type": "markdown",
   "metadata": {},
   "source": [
    "### Esercizio 1"
   ]
  },
  {
   "cell_type": "code",
   "execution_count": 1,
   "metadata": {},
   "outputs": [
    {
     "name": "stdout",
     "output_type": "stream",
     "text": [
      "{'Ada': 'Punto', 'Ben': 'Multipla', 'Charlie': 'Golf', 'Debbie': '107'}\n",
      "107\n"
     ]
    }
   ],
   "source": [
    "dizionario_auto = {\"Ada\": \"Punto\", \"Ben\": \"Multipla\", \"Charlie\": \"Golf\", \"Debbie\": \"107\"}\n",
    "print(dizionario_auto)\n",
    "print(dizionario_auto[\"Debbie\"])"
   ]
  },
  {
   "cell_type": "markdown",
   "metadata": {},
   "source": [
    "### Esercizio 2"
   ]
  },
  {
   "cell_type": "code",
   "execution_count": 2,
   "metadata": {},
   "outputs": [
    {
     "name": "stdout",
     "output_type": "stream",
     "text": [
      "Punto\n",
      "Golf\n",
      "107\n"
     ]
    }
   ],
   "source": [
    "for value in dizionario_auto.values():\n",
    "    if value == \"Multipla\":\n",
    "        pass\n",
    "    else: \n",
    "        print(value)"
   ]
  },
  {
   "cell_type": "markdown",
   "metadata": {},
   "source": [
    "### Esercizio 3"
   ]
  },
  {
   "cell_type": "code",
   "execution_count": 3,
   "metadata": {},
   "outputs": [
    {
     "name": "stdout",
     "output_type": "stream",
     "text": [
      "{'Ada': 'Punto', 'Ben': 'Polo', 'Charlie': 'Golf', 'Debbie': '107', 'Emily': 'A1', 'Fred': 'Octavia', 'Grace': 'Yaris', 'Hugh': 'Clio'}\n"
     ]
    }
   ],
   "source": [
    "dizionario_auto = {\"Ada\": \"Punto\", \"Ben\": \"Multipla\", \"Charlie\": \"Golf\", \"Debbie\": \"107\", \"Emily\": \"A1\"}\n",
    "nuovi_proprietari = {\"Ben\": \"Polo\", \"Fred\": \"Octavia\", \"Grace\": \"Yaris\", \"Hugh\": \"Clio\"}\n",
    "dizionario_auto.update(nuovi_proprietari)\n",
    "print(dizionario_auto)"
   ]
  },
  {
   "cell_type": "markdown",
   "metadata": {},
   "source": [
    "### Esercizio 4\n",
    "Si le dict sono affini al formato JSON. In python difatti possiamo gestire il formato JSON con le dict."
   ]
  },
  {
   "cell_type": "markdown",
   "metadata": {},
   "source": [
    "### Esercizio 5"
   ]
  },
  {
   "cell_type": "code",
   "execution_count": 5,
   "metadata": {},
   "outputs": [
    {
     "name": "stdout",
     "output_type": "stream",
     "text": [
      "Min is 1 and max is 10\n"
     ]
    }
   ],
   "source": [
    "numbers = [1, 2, 3, 4, 5, 6, 7, 8, 9, 10]\n",
    "def min_max(n):\n",
    "    max_value = max(n)\n",
    "    min_value = min(n)\n",
    "    return max_value, min_value\n",
    "\n",
    "print(f\"Min is {min_max(numbers)[1]} and Max is {min_max(numbers)[0]}\")"
   ]
  },
  {
   "cell_type": "markdown",
   "metadata": {},
   "source": [
    "### Esercizio 6\n",
    "Lascio inserire la lista all'utente. 5 numeri totali ma scelti dall'utente così da ovviare al problema delle liste più corte di tre, inoltre faccio un check sull'input così da lasciare la possibilità di inserire solo interi"
   ]
  },
  {
   "cell_type": "code",
   "execution_count": 11,
   "metadata": {},
   "outputs": [
    {
     "name": "stdout",
     "output_type": "stream",
     "text": [
      "I 3 numeri più grandi sono: [4, 4, 3]\n"
     ]
    }
   ],
   "source": [
    "def get_numbers():\n",
    "    lista_numeri = []\n",
    "    i = 1\n",
    "    while True:\n",
    "        try:\n",
    "            lista_numeri.append(int(input(f\"Inserisci un numero ({i}/5): \")))\n",
    "            i += 1\n",
    "            if i > 5:\n",
    "                return lista_numeri\n",
    "        except ValueError:\n",
    "            print(\"Non hai inserito un numero\")\n",
    "            continue\n",
    "\n",
    "def big3(numbers):\n",
    "    numbers.sort(reverse=True)\n",
    "    return numbers[:3]\n",
    "\n",
    "def main():\n",
    "    print(f\"I 3 numeri più grandi sono: {big3(get_numbers())}\")\n",
    "\n",
    "main()"
   ]
  },
  {
   "cell_type": "markdown",
   "metadata": {},
   "source": [
    "### Esercizio 7\n",
    "Recupero la funzione dall'esercizio precedente, aggiungendo un controllo anche per l'intero K"
   ]
  },
  {
   "cell_type": "code",
   "execution_count": 23,
   "metadata": {},
   "outputs": [
    {
     "name": "stdout",
     "output_type": "stream",
     "text": [
      "I numeri maggiori di 2 sono: [2. 3. 4. 5.]\n",
      "La media dei numeri maggiori di 2 è 3.5\n"
     ]
    }
   ],
   "source": [
    "import numpy as np\n",
    "\n",
    "def get_numbers():\n",
    "    lista_numeri = []\n",
    "    i = 1\n",
    "    while True:\n",
    "        try:\n",
    "            lista_numeri.append(int(input(f\"Inserisci un numero ({i}/5): \")))\n",
    "            i += 1\n",
    "            if i > 5:\n",
    "                break\n",
    "        except ValueError:\n",
    "            print(\"Non hai inserito un numero\")\n",
    "            continue\n",
    "        \n",
    "    while True:\n",
    "        try:\n",
    "            k = int(input(\"Inserisci un valore di media: \"))\n",
    "            break\n",
    "        except ValueError:\n",
    "            print(\"Non hai inserito un numero\")\n",
    "            continue\n",
    "    return lista_numeri, k\n",
    "\n",
    "def check_media(numbers, n):\n",
    "    above_list = np.array([])\n",
    "    for number in numbers:\n",
    "        if number >= n:\n",
    "            above_list = np.append(above_list, number)\n",
    "    media = np.mean(above_list)\n",
    "    return above_list, media\n",
    "    \n",
    "\n",
    "def main():\n",
    "    lista, k = get_numbers()\n",
    "    if k > max(lista):\n",
    "        print(\"La media inserità è più grande del valore massimo all'interno della lista\")\n",
    "    else:\n",
    "        lista_maggiore, media = check_media(lista, k)\n",
    "        print(f\"I numeri maggiori di {k} sono: {lista_maggiore}\")\n",
    "        print(f\"La media dei numeri maggiori di {k} è {media}\")\n",
    "\n",
    "    \n",
    "if __name__ == \"__main__\":\n",
    "    main()"
   ]
  },
  {
   "cell_type": "markdown",
   "metadata": {},
   "source": [
    "### Esercizio 8\n",
    "Anche in questo caso lascio inserire la lista all'utente, terminando il ciclo quando viene inseriro 0"
   ]
  },
  {
   "cell_type": "code",
   "execution_count": 27,
   "metadata": {},
   "outputs": [
    {
     "name": "stdout",
     "output_type": "stream",
     "text": [
      "[5, 2, 4, 7, 8, 3, 4]\n",
      "*****\n",
      "**\n",
      "****\n",
      "*******\n",
      "********\n",
      "***\n",
      "****\n"
     ]
    }
   ],
   "source": [
    "def get_list():\n",
    "    numbers = []\n",
    "    while True:\n",
    "        try:\n",
    "            number = int(input(\"Inserisci un numero, inserisci 0 per terminare:\"))\n",
    "            if number > 0:\n",
    "                numbers.append(number)\n",
    "            elif number < 0:\n",
    "                print(\"Devi inserire un numero positivo\")\n",
    "                continue\n",
    "            else:\n",
    "                return numbers\n",
    "        except ValueError:\n",
    "            print(\"Devi inserire un numero\")\n",
    "            continue\n",
    "\n",
    "def aster(numbers_list):\n",
    "    for number in numbers_list:\n",
    "        print(\"*\" * number)\n",
    "        \n",
    "def main():\n",
    "    numbers = get_list()\n",
    "    print(numbers)\n",
    "    aster(numbers)\n",
    "\n",
    "if __name__ == \"__main__\":\n",
    "    main()\n",
    "        \n",
    "                "
   ]
  }
 ],
 "metadata": {
  "kernelspec": {
   "display_name": ".venv",
   "language": "python",
   "name": "python3"
  },
  "language_info": {
   "codemirror_mode": {
    "name": "ipython",
    "version": 3
   },
   "file_extension": ".py",
   "mimetype": "text/x-python",
   "name": "python",
   "nbconvert_exporter": "python",
   "pygments_lexer": "ipython3",
   "version": "3.12.0"
  }
 },
 "nbformat": 4,
 "nbformat_minor": 2
}
